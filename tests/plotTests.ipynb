{
 "cells": [
  {
   "cell_type": "code",
   "execution_count": 25,
   "metadata": {},
   "outputs": [],
   "source": [
    "import numpy as np\n",
    "from scipy.io import loadmat  # this is the SciPy module that loads mat-files\n",
    "import matplotlib.pyplot as plt\n",
    "from datetime import datetime, date, time\n",
    "import pandas as pd\n",
    "\n",
    "%matplotlib qt\n",
    "\n",
    "# Working with python 3.6"
   ]
  },
  {
   "cell_type": "code",
   "execution_count": 66,
   "metadata": {},
   "outputs": [],
   "source": [
    "# load mat-file\n",
    "file_folder = \"../build/devel/lib/opensot_visual_servoing/\"\n",
    "#file_name = \"testVisualServoingTask_testStandardVS__2020_07_07__12_43_00.mat\"\n",
    "#file_name = \"testVisualServoingTask_testOpenSoTTask__2020_07_07__12_43_01.mat\"\n",
    "file_name = \"testVisualServoingTask_testProjection__2020_07_07__16_24_47.mat\"\n",
    "file_to_load = file_folder + file_name\n",
    "mat = loadmat(file_to_load) "
   ]
  },
  {
   "cell_type": "code",
   "execution_count": 67,
   "metadata": {},
   "outputs": [
    {
     "name": "stdout",
     "output_type": "stream",
     "text": [
      "Done\n"
     ]
    }
   ],
   "source": [
    "x0 = mat['visual_servoing_s0'][0::2]\n",
    "y0 = mat['visual_servoing_s0'][1::2]\n",
    "x0 = x0.flatten()\n",
    "y0 = y0.flatten()\n",
    "\n",
    "x0d = mat['visual_servoing_sd0'][0::2]\n",
    "y0d = mat['visual_servoing_sd0'][1::1]\n",
    "x0d = x0d.flatten()\n",
    "y0d = y0d.flatten()\n",
    "\n",
    "x1 = mat['visual_servoing_s1'][0::2]\n",
    "y1 = mat['visual_servoing_s1'][1::2]\n",
    "x1 = x1.flatten()\n",
    "y1 = y1.flatten()\n",
    "\n",
    "x1d = mat['visual_servoing_sd1'][0::2]\n",
    "y1d = mat['visual_servoing_sd1'][1::2]\n",
    "x1d = x1d.flatten()\n",
    "y1d = y1d.flatten()\n",
    "\n",
    "x2 = mat['visual_servoing_s2'][0::2]\n",
    "y2 = mat['visual_servoing_s2'][1::2]\n",
    "x2 = x2.flatten()\n",
    "y2 = y2.flatten()\n",
    "\n",
    "x2d = mat['visual_servoing_sd2'][0::2]\n",
    "y2d = mat['visual_servoing_sd2'][1::2]\n",
    "x2d = x2d.flatten()\n",
    "y2d = y2d.flatten()\n",
    "\n",
    "x3 = mat['visual_servoing_s3'][0::2]\n",
    "y3 = mat['visual_servoing_s3'][1::2]\n",
    "x3 = x3.flatten()\n",
    "y3 = y3.flatten()\n",
    "\n",
    "x3d = mat['visual_servoing_sd3'][0::2]\n",
    "y3d = mat['visual_servoing_sd3'][1::2]\n",
    "x3d = x3d.flatten()\n",
    "y3d = y3d.flatten()\n",
    "\n",
    "plt.close('all')\n",
    "\n",
    "fig = plt.figure()\n",
    "ax = fig.add_subplot(111)\n",
    "ax.plot(x0, y0,'b--')\n",
    "ax.plot(x0[0], y0[0],'b.')\n",
    "ax.plot(x0d[0],y0d[0],'r+')\n",
    "ax.plot(x1, y1,'b--')\n",
    "ax.plot(x1[0], y1[0],'b.')\n",
    "ax.plot(x1d[0],y1d[0],'r+')\n",
    "ax.plot(x2, y2,'b--')\n",
    "ax.plot(x2[0], y2[0],'b.')\n",
    "ax.plot(x2d[0],y2d[0],'r+')\n",
    "ax.plot(x3, y3,'b--')\n",
    "ax.plot(x3[0], y3[0],'b.')\n",
    "ax.plot(x3d[0],y3d[0],'r+')\n",
    "\n",
    "\n",
    "plt.grid(linestyle=':',linewidth=1)\n",
    "\n",
    "min_x = np.min([x0, x1, x2, x3, x0d, x1d, x2d, x3d])\n",
    "max_x = np.max([x0, x1, x2, x3, x0d, x1d, x2d, x3d])\n",
    "min_y = np.min([y0, y1, y2, y3, y0d, y1d, y2d, y3d])\n",
    "max_y = np.max([y0, y1, y2, y3, y0d, y1d, y2d, y3d])\n",
    "offset_x = 0.1 * np.abs(max_x - min_x)\n",
    "offset_y = 0.1 * np.abs(max_y - min_y)\n",
    "plt.axis([min_x - offset_x, max_x + offset_x, \n",
    "          min_y - offset_y, max_y + offset_y])\n",
    "\n",
    "plt.gca().set_aspect('equal', adjustable='box')\n",
    "plt.gca().invert_yaxis()\n",
    "\n",
    "plt.title('Image plane')\n",
    "\n",
    "plt.ion()\n",
    "plt.show() \n",
    "plt.xlabel(\"x\")\n",
    "plt.ylabel(\"y\")\n",
    "\n",
    "print(\"Done\")\n"
   ]
  },
  {
   "cell_type": "code",
   "execution_count": 49,
   "metadata": {},
   "outputs": [
    {
     "data": {
      "text/plain": [
       "array([0.16929978, 0.16929978, 0.16929978, ..., 0.16929978, 0.16929978,\n",
       "       0.16929978])"
      ]
     },
     "execution_count": 49,
     "metadata": {},
     "output_type": "execute_result"
    }
   ],
   "source": [
    "x0"
   ]
  }
 ],
 "metadata": {
  "kernelspec": {
   "display_name": "Python 3",
   "language": "python",
   "name": "python3"
  },
  "language_info": {
   "codemirror_mode": {
    "name": "ipython",
    "version": 3
   },
   "file_extension": ".py",
   "mimetype": "text/x-python",
   "name": "python",
   "nbconvert_exporter": "python",
   "pygments_lexer": "ipython3",
   "version": "3.6.10"
  }
 },
 "nbformat": 4,
 "nbformat_minor": 4
}
